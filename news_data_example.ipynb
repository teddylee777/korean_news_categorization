{
 "cells": [
  {
   "cell_type": "markdown",
   "metadata": {},
   "source": [
    "## import contents 파일"
   ]
  },
  {
   "cell_type": "code",
   "execution_count": 9,
   "metadata": {},
   "outputs": [],
   "source": [
    "import pandas as pd"
   ]
  },
  {
   "cell_type": "code",
   "execution_count": 31,
   "metadata": {},
   "outputs": [],
   "source": [
    "df = pd.read_csv('./data/news.csv')"
   ]
  },
  {
   "cell_type": "markdown",
   "metadata": {},
   "source": [
    "## Category 교육만 추출"
   ]
  },
  {
   "cell_type": "code",
   "execution_count": 32,
   "metadata": {},
   "outputs": [],
   "source": [
    "df = df[df['category']==1]"
   ]
  },
  {
   "cell_type": "markdown",
   "metadata": {},
   "source": [
    "## clean up sentence"
   ]
  },
  {
   "cell_type": "code",
   "execution_count": 35,
   "metadata": {},
   "outputs": [],
   "source": [
    "import re\n",
    "\n",
    "def preprocessing(sentence):\n",
    "    sentence =re.sub('[^가-힣ㄱ-ㅎㅏ-ㅣa-zA-Z]', ' ', sentence)\n",
    "    return sentence"
   ]
  },
  {
   "cell_type": "code",
   "execution_count": 36,
   "metadata": {},
   "outputs": [],
   "source": [
    "df['content_cleaned'] = df['content'].apply(preprocessing)"
   ]
  },
  {
   "cell_type": "code",
   "execution_count": 37,
   "metadata": {},
   "outputs": [],
   "source": [
    "content = df['content_cleaned'].tolist()"
   ]
  },
  {
   "cell_type": "code",
   "execution_count": 38,
   "metadata": {},
   "outputs": [],
   "source": [
    "from sklearn.feature_extraction.text import CountVectorizer\n",
    "from sklearn.preprocessing import normalize\n",
    "from sklearn.cluster import KMeans\n",
    "\n",
    "# vectorizing\n",
    "vectorizer = CountVectorizer()\n",
    "X = vectorizer.fit_transform(content)"
   ]
  },
  {
   "cell_type": "code",
   "execution_count": 40,
   "metadata": {},
   "outputs": [],
   "source": [
    "# L2 normalizing\n",
    "X = normalize(X)\n",
    "\n",
    "# training k-means\n",
    "kmeans = KMeans(n_clusters=100).fit(X)\n",
    "\n",
    "# trained labels and cluster centers\n",
    "labels = kmeans.labels_\n",
    "centers = kmeans.cluster_centers_"
   ]
  },
  {
   "cell_type": "code",
   "execution_count": 41,
   "metadata": {},
   "outputs": [],
   "source": [
    "df['labels'] = labels"
   ]
  },
  {
   "cell_type": "code",
   "execution_count": 81,
   "metadata": {},
   "outputs": [
    {
     "data": {
      "text/html": [
       "<div>\n",
       "<style scoped>\n",
       "    .dataframe tbody tr th:only-of-type {\n",
       "        vertical-align: middle;\n",
       "    }\n",
       "\n",
       "    .dataframe tbody tr th {\n",
       "        vertical-align: top;\n",
       "    }\n",
       "\n",
       "    .dataframe thead th {\n",
       "        text-align: right;\n",
       "    }\n",
       "</style>\n",
       "<table border=\"1\" class=\"dataframe\">\n",
       "  <thead>\n",
       "    <tr style=\"text-align: right;\">\n",
       "      <th></th>\n",
       "      <th>content_cleaned</th>\n",
       "      <th>labels</th>\n",
       "    </tr>\n",
       "  </thead>\n",
       "  <tbody>\n",
       "    <tr>\n",
       "      <th>7925</th>\n",
       "      <td>공립유치원  육아지원센터 활용키로  개학 연기 없는 것으로 파악   이덕선 한국유치...</td>\n",
       "      <td>7</td>\n",
       "    </tr>\n",
       "    <tr>\n",
       "      <th>8043</th>\n",
       "      <td>교육당국  엄정 대응 방침 긴급 돌봄 서비스 제공해 공백 최소화  검찰  고발 땐 ...</td>\n",
       "      <td>7</td>\n",
       "    </tr>\n",
       "    <tr>\n",
       "      <th>8110</th>\n",
       "      <td>개학 연기  사립유치원 명단  오늘 정오 시도교육청 홈피 공개  머니투데이 세종 ...</td>\n",
       "      <td>7</td>\n",
       "    </tr>\n",
       "    <tr>\n",
       "      <th>8228</th>\n",
       "      <td>일부 사립유치원의 개학연기와 관련해 교육 당국이 개학 연기 유치원 명단을 공개하기로...</td>\n",
       "      <td>7</td>\n",
       "    </tr>\n",
       "    <tr>\n",
       "      <th>8285</th>\n",
       "      <td>돌봄 신청  교육지원청 연락처  서울시교육청은 관내에서 개학 연기를 결정한 유치원...</td>\n",
       "      <td>7</td>\n",
       "    </tr>\n",
       "    <tr>\n",
       "      <th>8286</th>\n",
       "      <td>충북교육청 전경  한국유치원총연합회의 개학 연기 방침에 동참하는 충북 사립유치원은 ...</td>\n",
       "      <td>7</td>\n",
       "    </tr>\n",
       "    <tr>\n",
       "      <th>8527</th>\n",
       "      <td>개학 연기 유치원 수 맞습니꺼  우리 동네는 더 많다 카든데   머니투데이 세종 ...</td>\n",
       "      <td>7</td>\n",
       "    </tr>\n",
       "    <tr>\n",
       "      <th>8636</th>\n",
       "      <td>개학 연기  통보받았다면  긴급돌봄 신청하세요   머니투데이 이해인 기자  한국유...</td>\n",
       "      <td>7</td>\n",
       "    </tr>\n",
       "    <tr>\n",
       "      <th>8660</th>\n",
       "      <td>일러스트 연합뉴스   전국 사립 유치원에서 집단 개학 연기를 선언한 가운데 대구에...</td>\n",
       "      <td>7</td>\n",
       "    </tr>\n",
       "    <tr>\n",
       "      <th>8661</th>\n",
       "      <td>한국유치원총연합회 한유총 의 개학 연기 결정에 대한 반발 비난 여론이 고조되고 있다...</td>\n",
       "      <td>7</td>\n",
       "    </tr>\n",
       "    <tr>\n",
       "      <th>8729</th>\n",
       "      <td>천안 아산에 집중 비상 돌봄서비스 준비 마쳐   홍성 연합뉴스  정찬욱 기자  한국...</td>\n",
       "      <td>7</td>\n",
       "    </tr>\n",
       "    <tr>\n",
       "      <th>8733</th>\n",
       "      <td>교육부   개학 연기  유치원 재집계 결과    곳으로 늘어  머니투데이 세종 문영...</td>\n",
       "      <td>7</td>\n",
       "    </tr>\n",
       "    <tr>\n",
       "      <th>8757</th>\n",
       "      <td>내일  개학 연기  유치원    곳 전체     수준  뉴스  제공  유은혜 사회부...</td>\n",
       "      <td>7</td>\n",
       "    </tr>\n",
       "    <tr>\n",
       "      <th>8788</th>\n",
       "      <td>유치원 학부모들과 아이들이  일 경기도 용인시 수지구청 앞에서 한국유치원총연합회를 ...</td>\n",
       "      <td>7</td>\n",
       "    </tr>\n",
       "    <tr>\n",
       "      <th>8816</th>\n",
       "      <td>교육당국  일부터 긴급돌봄체계 가동 보육서비스만 제공  뉴스  제공   일 오후 경...</td>\n",
       "      <td>7</td>\n",
       "    </tr>\n",
       "    <tr>\n",
       "      <th>8862</th>\n",
       "      <td>개학 연기 앞둔 유치원  서울 연합뉴스  김인철 기자   정부가 한국유치원총연합회 ...</td>\n",
       "      <td>7</td>\n",
       "    </tr>\n",
       "    <tr>\n",
       "      <th>8864</th>\n",
       "      <td>한국유치원총연합회 한유총 의 유치원 개학 연기 투쟁에 정부가  무관용 원칙 을 고수...</td>\n",
       "      <td>7</td>\n",
       "    </tr>\n",
       "    <tr>\n",
       "      <th>8883</th>\n",
       "      <td>사립유치원 개학연기 사태에 용인시 학부모    여명이  일 오후 경기도 용인시 수지...</td>\n",
       "      <td>7</td>\n",
       "    </tr>\n",
       "    <tr>\n",
       "      <th>8954</th>\n",
       "      <td>오늘 우리 동네  문 닫는  유치원은 어디   머니투데이 세종 문영재 기자  조희연...</td>\n",
       "      <td>7</td>\n",
       "    </tr>\n",
       "    <tr>\n",
       "      <th>8955</th>\n",
       "      <td>서울 종로구 서울시교육청에서 조희연 서울교육감 오른쪽부터   이재정 경기교육감  도...</td>\n",
       "      <td>7</td>\n",
       "    </tr>\n",
       "    <tr>\n",
       "      <th>8956</th>\n",
       "      <td>오늘 유치원 개학일 개학 연기 땐  엄정대응 돌봄강화   뉴스  제공   일 오후 ...</td>\n",
       "      <td>7</td>\n",
       "    </tr>\n",
       "    <tr>\n",
       "      <th>9024</th>\n",
       "      <td>돌봄 공백  우려 시교육청  돌봄 거점 유치원   곳 지정 일 사립유치원단체 한국...</td>\n",
       "      <td>7</td>\n",
       "    </tr>\n",
       "    <tr>\n",
       "      <th>9031</th>\n",
       "      <td>교육당국  일부 유치원 개학연기 철회  한유총  교육부에 달려 개학연기 유치원 전날...</td>\n",
       "      <td>7</td>\n",
       "    </tr>\n",
       "    <tr>\n",
       "      <th>9057</th>\n",
       "      <td>유치원  개학 연기    철회 현장에선 혼란만  머니투데이 이동우 기자  이해진 기...</td>\n",
       "      <td>7</td>\n",
       "    </tr>\n",
       "    <tr>\n",
       "      <th>9068</th>\n",
       "      <td>일방적 개학 연기와 갑작스런 철회까지 학부모 근심 분통   앵커   사립유치원단체의...</td>\n",
       "      <td>7</td>\n",
       "    </tr>\n",
       "    <tr>\n",
       "      <th>9071</th>\n",
       "      <td>사진   경북교육청    경북 NSP통신  강신윤 기자   경북교육청 교육감 임종...</td>\n",
       "      <td>7</td>\n",
       "    </tr>\n",
       "    <tr>\n",
       "      <th>9096</th>\n",
       "      <td>노원구 도봉구 일대 유치원 막판에 잇단 개학 연기 철회  시교육청  일부 유치원  ...</td>\n",
       "      <td>7</td>\n",
       "    </tr>\n",
       "    <tr>\n",
       "      <th>9105</th>\n",
       "      <td>이미지 크게보기  이미지 크게보기  한국유치원총연합회 한유총 가  유치원  법  등...</td>\n",
       "      <td>7</td>\n",
       "    </tr>\n",
       "    <tr>\n",
       "      <th>9107</th>\n",
       "      <td>충남지역 사립유치원   여곳이  일 한국유치원총연합회 한유총  방침에 동참해 개학 ...</td>\n",
       "      <td>7</td>\n",
       "    </tr>\n",
       "    <tr>\n",
       "      <th>9115</th>\n",
       "      <td>한국유치원총연합회가 개학 연기를 강행한  일 오전 서울 동대문구 장안동의 한 유치원...</td>\n",
       "      <td>7</td>\n",
       "    </tr>\n",
       "    <tr>\n",
       "      <th>9139</th>\n",
       "      <td>도내 전체의    인   곳  돌봄서비스 제공 보육대란은 피해  도교육청  교육과정...</td>\n",
       "      <td>7</td>\n",
       "    </tr>\n",
       "    <tr>\n",
       "      <th>9153</th>\n",
       "      <td>자체돌봄 제공해도 개학연기하면 시정명령 대상   개학 연기 무응답 유치원에 대한 ...</td>\n",
       "      <td>7</td>\n",
       "    </tr>\n",
       "    <tr>\n",
       "      <th>9155</th>\n",
       "      <td>미응답   곳  곳 변동 돌봄 거점 유치원   곳 지정사립유치원단체 한국유치원총연합...</td>\n",
       "      <td>7</td>\n",
       "    </tr>\n",
       "    <tr>\n",
       "      <th>9178</th>\n",
       "      <td>학부모들의 성난 목소리가 예상보다 커지면서 개학 연기를 강행한 사립유치원 숫자가 줄...</td>\n",
       "      <td>7</td>\n",
       "    </tr>\n",
       "    <tr>\n",
       "      <th>9185</th>\n",
       "      <td>개학 연기 발생 때 대처 방안은 이미 마련돼 있다 김승환 전북도 교육감이 한국사립...</td>\n",
       "      <td>7</td>\n",
       "    </tr>\n",
       "    <tr>\n",
       "      <th>9278</th>\n",
       "      <td>한국유치원총연합회 한유총 이 무기한 개학 연기 투쟁을 시작한  일 서울의 한 유치원...</td>\n",
       "      <td>7</td>\n",
       "    </tr>\n",
       "    <tr>\n",
       "      <th>9306</th>\n",
       "      <td>한유총  유아 볼모로 개학 연기 강행 참여 유치원은    곳  뉴스  제공  유은혜...</td>\n",
       "      <td>7</td>\n",
       "    </tr>\n",
       "    <tr>\n",
       "      <th>9348</th>\n",
       "      <td>경상남도교육청 사진 연합뉴스   한국유치원총연합회의 개학 연기 결정에 동참한 경남지...</td>\n",
       "      <td>7</td>\n",
       "    </tr>\n",
       "    <tr>\n",
       "      <th>9356</th>\n",
       "      <td>일부 학부모 불편 불가피  천안 아산 사립유치원  일부터 정상운영   홍성 연합뉴스...</td>\n",
       "      <td>7</td>\n",
       "    </tr>\n",
       "    <tr>\n",
       "      <th>9364</th>\n",
       "      <td>정부 강공 여론 밀려  휴업 급감   문 닫은 유치원에 시정명령서   한국유치원총연...</td>\n",
       "      <td>7</td>\n",
       "    </tr>\n",
       "    <tr>\n",
       "      <th>9365</th>\n",
       "      <td>부정 여론 정부 강경대응에 개학연기 철회 늘어 긴급돌봄체계 가동개학 연기 유치원에 ...</td>\n",
       "      <td>7</td>\n",
       "    </tr>\n",
       "    <tr>\n",
       "      <th>9459</th>\n",
       "      <td>유치원대란 없었다  끝내 무릎 꿇은 한유총   앵커   한국유치원총연합회가 예고한...</td>\n",
       "      <td>7</td>\n",
       "    </tr>\n",
       "    <tr>\n",
       "      <th>9477</th>\n",
       "      <td>유치원대란 없었다  끝내 무릎 꿇은 한유총   뉴스리뷰    앵커   한국유치원총...</td>\n",
       "      <td>7</td>\n",
       "    </tr>\n",
       "    <tr>\n",
       "      <th>9494</th>\n",
       "      <td>사립유치원 단체인 한국유치원총연합회가  유치원  법  철회 등을 요구하며 결국 개학...</td>\n",
       "      <td>7</td>\n",
       "    </tr>\n",
       "    <tr>\n",
       "      <th>9572</th>\n",
       "      <td>경기도 평택의 한 유치원은  개학 무기한 연기 를 선언했다가  일 예정대로 입학식을...</td>\n",
       "      <td>7</td>\n",
       "    </tr>\n",
       "    <tr>\n",
       "      <th>9584</th>\n",
       "      <td>한국유치원총연합회 한유총 가  유치원  법  등 철회를 요구하며  개학 연기 투쟁 ...</td>\n",
       "      <td>7</td>\n",
       "    </tr>\n",
       "  </tbody>\n",
       "</table>\n",
       "</div>"
      ],
      "text/plain": [
       "                                        content_cleaned  labels\n",
       "7925  공립유치원  육아지원센터 활용키로  개학 연기 없는 것으로 파악   이덕선 한국유치...       7\n",
       "8043  교육당국  엄정 대응 방침 긴급 돌봄 서비스 제공해 공백 최소화  검찰  고발 땐 ...       7\n",
       "8110   개학 연기  사립유치원 명단  오늘 정오 시도교육청 홈피 공개  머니투데이 세종 ...       7\n",
       "8228  일부 사립유치원의 개학연기와 관련해 교육 당국이 개학 연기 유치원 명단을 공개하기로...       7\n",
       "8285   돌봄 신청  교육지원청 연락처  서울시교육청은 관내에서 개학 연기를 결정한 유치원...       7\n",
       "8286  충북교육청 전경  한국유치원총연합회의 개학 연기 방침에 동참하는 충북 사립유치원은 ...       7\n",
       "8527   개학 연기 유치원 수 맞습니꺼  우리 동네는 더 많다 카든데   머니투데이 세종 ...       7\n",
       "8636   개학 연기  통보받았다면  긴급돌봄 신청하세요   머니투데이 이해인 기자  한국유...       7\n",
       "8660   일러스트 연합뉴스   전국 사립 유치원에서 집단 개학 연기를 선언한 가운데 대구에...       7\n",
       "8661  한국유치원총연합회 한유총 의 개학 연기 결정에 대한 반발 비난 여론이 고조되고 있다...       7\n",
       "8729  천안 아산에 집중 비상 돌봄서비스 준비 마쳐   홍성 연합뉴스  정찬욱 기자  한국...       7\n",
       "8733  교육부   개학 연기  유치원 재집계 결과    곳으로 늘어  머니투데이 세종 문영...       7\n",
       "8757  내일  개학 연기  유치원    곳 전체     수준  뉴스  제공  유은혜 사회부...       7\n",
       "8788  유치원 학부모들과 아이들이  일 경기도 용인시 수지구청 앞에서 한국유치원총연합회를 ...       7\n",
       "8816  교육당국  일부터 긴급돌봄체계 가동 보육서비스만 제공  뉴스  제공   일 오후 경...       7\n",
       "8862  개학 연기 앞둔 유치원  서울 연합뉴스  김인철 기자   정부가 한국유치원총연합회 ...       7\n",
       "8864  한국유치원총연합회 한유총 의 유치원 개학 연기 투쟁에 정부가  무관용 원칙 을 고수...       7\n",
       "8883  사립유치원 개학연기 사태에 용인시 학부모    여명이  일 오후 경기도 용인시 수지...       7\n",
       "8954  오늘 우리 동네  문 닫는  유치원은 어디   머니투데이 세종 문영재 기자  조희연...       7\n",
       "8955  서울 종로구 서울시교육청에서 조희연 서울교육감 오른쪽부터   이재정 경기교육감  도...       7\n",
       "8956  오늘 유치원 개학일 개학 연기 땐  엄정대응 돌봄강화   뉴스  제공   일 오후 ...       7\n",
       "9024   돌봄 공백  우려 시교육청  돌봄 거점 유치원   곳 지정 일 사립유치원단체 한국...       7\n",
       "9031  교육당국  일부 유치원 개학연기 철회  한유총  교육부에 달려 개학연기 유치원 전날...       7\n",
       "9057  유치원  개학 연기    철회 현장에선 혼란만  머니투데이 이동우 기자  이해진 기...       7\n",
       "9068  일방적 개학 연기와 갑작스런 철회까지 학부모 근심 분통   앵커   사립유치원단체의...       7\n",
       "9071   사진   경북교육청    경북 NSP통신  강신윤 기자   경북교육청 교육감 임종...       7\n",
       "9096  노원구 도봉구 일대 유치원 막판에 잇단 개학 연기 철회  시교육청  일부 유치원  ...       7\n",
       "9105  이미지 크게보기  이미지 크게보기  한국유치원총연합회 한유총 가  유치원  법  등...       7\n",
       "9107  충남지역 사립유치원   여곳이  일 한국유치원총연합회 한유총  방침에 동참해 개학 ...       7\n",
       "9115  한국유치원총연합회가 개학 연기를 강행한  일 오전 서울 동대문구 장안동의 한 유치원...       7\n",
       "9139  도내 전체의    인   곳  돌봄서비스 제공 보육대란은 피해  도교육청  교육과정...       7\n",
       "9153   자체돌봄 제공해도 개학연기하면 시정명령 대상   개학 연기 무응답 유치원에 대한 ...       7\n",
       "9155  미응답   곳  곳 변동 돌봄 거점 유치원   곳 지정사립유치원단체 한국유치원총연합...       7\n",
       "9178  학부모들의 성난 목소리가 예상보다 커지면서 개학 연기를 강행한 사립유치원 숫자가 줄...       7\n",
       "9185   개학 연기 발생 때 대처 방안은 이미 마련돼 있다 김승환 전북도 교육감이 한국사립...       7\n",
       "9278  한국유치원총연합회 한유총 이 무기한 개학 연기 투쟁을 시작한  일 서울의 한 유치원...       7\n",
       "9306  한유총  유아 볼모로 개학 연기 강행 참여 유치원은    곳  뉴스  제공  유은혜...       7\n",
       "9348  경상남도교육청 사진 연합뉴스   한국유치원총연합회의 개학 연기 결정에 동참한 경남지...       7\n",
       "9356  일부 학부모 불편 불가피  천안 아산 사립유치원  일부터 정상운영   홍성 연합뉴스...       7\n",
       "9364  정부 강공 여론 밀려  휴업 급감   문 닫은 유치원에 시정명령서   한국유치원총연...       7\n",
       "9365  부정 여론 정부 강경대응에 개학연기 철회 늘어 긴급돌봄체계 가동개학 연기 유치원에 ...       7\n",
       "9459   유치원대란 없었다  끝내 무릎 꿇은 한유총   앵커   한국유치원총연합회가 예고한...       7\n",
       "9477   유치원대란 없었다  끝내 무릎 꿇은 한유총   뉴스리뷰    앵커   한국유치원총...       7\n",
       "9494  사립유치원 단체인 한국유치원총연합회가  유치원  법  철회 등을 요구하며 결국 개학...       7\n",
       "9572  경기도 평택의 한 유치원은  개학 무기한 연기 를 선언했다가  일 예정대로 입학식을...       7\n",
       "9584  한국유치원총연합회 한유총 가  유치원  법  등 철회를 요구하며  개학 연기 투쟁 ...       7"
      ]
     },
     "execution_count": 81,
     "metadata": {},
     "output_type": "execute_result"
    }
   ],
   "source": [
    "df.loc[df['labels']==7,['content_cleaned', 'labels']]"
   ]
  },
  {
   "cell_type": "code",
   "execution_count": 65,
   "metadata": {},
   "outputs": [],
   "source": [
    "def normalize_me(sentence):\n",
    "    vectorizer = CountVectorizer()\n",
    "    ret = vectorizer.fit_transform(sentence)\n",
    "    return ret"
   ]
  },
  {
   "cell_type": "code",
   "execution_count": 60,
   "metadata": {},
   "outputs": [],
   "source": [
    "test_sentence = [\"\"\"1995년 창립 이후 툭하면 아이들을 볼모로 한 ‘집단 휴원’ 등에 나섰던 한국유치원총연합회(한유총)가 ‘개학 연기 투쟁’에 나섰다가 ‘법인 취소’ 역풍을 맞았다. 뒤늦게 한유총은 ‘개학 연기’ 취소를 밝혔으나 교육 당국은 법인 취소를 고수할 방침이다. 교육부도 공정거래위원회 신고를 예정대로 진행하기로 했다.\n",
    "‘유치원 3법과 유아교육법 시행령 개정안’에 반대하며 한유총 소속 일부 사립유치원이 4일 실제 개학을 연기하자 서울시교육청이 한유총 법인 설립허가를 취소하기로 결정했다. ‘법인 취소’라는 역풍을 맞은 한유총은 이날 오후 늦게 개학 연기 투쟁을 조건 없이 철회한다고 밝혔다. 한유총 집행부는 이날 보도문을 내어 “개학 연기 사태로 국민들께 심려를 끼쳐드려 진심으로 사과드린다”며 “5일부로 각 유치원은 자체 판단에 의해 개학해주기를 바란다”고 밝혔다. 개학 연기 투쟁을 주도한 이덕선 이사장은 수일 안에 거취를 포함한 입장을 발표하겠다고도 했다.\n",
    "애초 한유총 집행부는 3일 기자회견을 열어 1500여곳에 이르는 유치원이 개학을 연기할 것이라고 밝혔다. 그러나 상당수 유치원의 개학 날인 4일 정부가 점검한 결과 실제 개학을 연기한 곳은 239곳뿐이었다. 전국 사립유치원 총 3875곳 가운데 동참한 유치원이 6.2%에 그친 것이다.\n",
    "한유총의 ‘개학 연기 투쟁’에 정부는 개학 연기 유치원 명단 공개, 시정명령 및 형사고발 등 강경 대응 방침을 고수했다. 3일부터 각 시·도 교육청 누리집에 개학 연기 유치원 명단을 공개하고 업데이트했다. 한유총이 요구한 ‘공론화위원회’ 등에는 에듀파인 도입 등에 대한 여론조사 결과 공개로 맞대응했다. 조사 결과, 국민 10명 가운데 8명이 국가회계관리시스템인 에듀파인 도입 등에 찬성했다.\n",
    "4일엔 교육청 담당자들이 직접 개학 연기 유치원을 방문해 시정명령을 내렸다. 정부는 5일까지 문을 열지 않으면 형사고발도 불사하겠다는 입장이었다. 이러한 정부의 강경 대응과 함께 “아이를 볼모로 집단행동을 하는 집단이 과연 교육자냐”라는 여론의 뭇매가 쏟아지며 한유총의 개학 연기 철회로까지 이어졌다.\n",
    "1200여곳에 이르는 한유총 회원 유치원이 집행부의 ‘개학 연기 투쟁’ 결정을 따르지 않으면서 한유총 지도부는 궁지에 몰렸다. 3일과 4일 사이 개학 연기를 철회한 유치원이 126곳이나 늘었고, 개학을 연기한 239곳 가운데 221곳은 자체 돌봄교실 문을 열었다. 다행히 우려했던 보육대란은 피해 갈 수 있었다.\n",
    "보육대란은 피했지만 개학 연기에 따른 피해는 고스란히 학부모와 아이들에게 전가됐다. 대다수 유치원 학부모는 3·1절 연휴 시작과 함께 ‘개학 연기’ 통보를 받은 상황이라 더 크게 당황할 수밖에 없었다. 연휴 내내 학부모들은 자녀가 다니는 유치원이 ‘개학 연기’ 방침을 밝힌 유치원 명단에 있는지 없는지, 있다면 당장 4일부터 아이를 어떻게 해야 하는지 등을 두고 머리를 싸매야 했다.\n",
    "아이들을 볼모로 이익을 관철하고자 하는 한유총을 지탄하는 학부모들의 여론은 더욱 뜨겁게 끓어올랐다. 일부 학부모는 유치원에 항의 전화를 하고 환불까지 요청하는 등 적극적인 행동에 나섰다. 아이를 유치원에 맡겨야 하는 처지 때문에 적극적으로 발언하거나 나서지 못한 부모들의 불만이 터져 나왔다. 정부의 굳건한 엄단 방침은 물론 악화된 여론 속에서 한유총의 개학 연기는 결국 실패로 귀결됐다. 장하나 정치하는엄마들 활동가는 “유아교육의 공공성을 강화하기 위해 정부는 국공립 증설 등에 박차를 가해야 한다”며 “사적 재산권을 주장하는 한유총과 같은 집단들이 다시는 아이들을 볼모로 삼지 않게 해야 한다”고 강조했다.\n",
    "\"\"\"]"
   ]
  },
  {
   "cell_type": "code",
   "execution_count": 66,
   "metadata": {},
   "outputs": [
    {
     "ename": "ValueError",
     "evalue": "Incorrect number of features. Got 297 features, expected 120498",
     "output_type": "error",
     "traceback": [
      "\u001b[0;31m---------------------------------------------------------------------------\u001b[0m",
      "\u001b[0;31mValueError\u001b[0m                                Traceback (most recent call last)",
      "\u001b[0;32m<ipython-input-66-54ecaf62ea12>\u001b[0m in \u001b[0;36m<module>\u001b[0;34m\u001b[0m\n\u001b[0;32m----> 1\u001b[0;31m \u001b[0mresult\u001b[0m \u001b[0;34m=\u001b[0m \u001b[0mkmeans\u001b[0m\u001b[0;34m.\u001b[0m\u001b[0mpredict\u001b[0m\u001b[0;34m(\u001b[0m\u001b[0mnormalize_me\u001b[0m\u001b[0;34m(\u001b[0m\u001b[0mtest_sentence\u001b[0m\u001b[0;34m)\u001b[0m\u001b[0;34m)\u001b[0m\u001b[0;34m\u001b[0m\u001b[0;34m\u001b[0m\u001b[0m\n\u001b[0m",
      "\u001b[0;32m~/.conda/envs/news/lib/python3.7/site-packages/sklearn/cluster/k_means_.py\u001b[0m in \u001b[0;36mpredict\u001b[0;34m(self, X, sample_weight)\u001b[0m\n\u001b[1;32m   1074\u001b[0m         \u001b[0mcheck_is_fitted\u001b[0m\u001b[0;34m(\u001b[0m\u001b[0mself\u001b[0m\u001b[0;34m,\u001b[0m \u001b[0;34m'cluster_centers_'\u001b[0m\u001b[0;34m)\u001b[0m\u001b[0;34m\u001b[0m\u001b[0;34m\u001b[0m\u001b[0m\n\u001b[1;32m   1075\u001b[0m \u001b[0;34m\u001b[0m\u001b[0m\n\u001b[0;32m-> 1076\u001b[0;31m         \u001b[0mX\u001b[0m \u001b[0;34m=\u001b[0m \u001b[0mself\u001b[0m\u001b[0;34m.\u001b[0m\u001b[0m_check_test_data\u001b[0m\u001b[0;34m(\u001b[0m\u001b[0mX\u001b[0m\u001b[0;34m)\u001b[0m\u001b[0;34m\u001b[0m\u001b[0;34m\u001b[0m\u001b[0m\n\u001b[0m\u001b[1;32m   1077\u001b[0m         \u001b[0mx_squared_norms\u001b[0m \u001b[0;34m=\u001b[0m \u001b[0mrow_norms\u001b[0m\u001b[0;34m(\u001b[0m\u001b[0mX\u001b[0m\u001b[0;34m,\u001b[0m \u001b[0msquared\u001b[0m\u001b[0;34m=\u001b[0m\u001b[0;32mTrue\u001b[0m\u001b[0;34m)\u001b[0m\u001b[0;34m\u001b[0m\u001b[0;34m\u001b[0m\u001b[0m\n\u001b[1;32m   1078\u001b[0m         return _labels_inertia(X, sample_weight, x_squared_norms,\n",
      "\u001b[0;32m~/.conda/envs/news/lib/python3.7/site-packages/sklearn/cluster/k_means_.py\u001b[0m in \u001b[0;36m_check_test_data\u001b[0;34m(self, X)\u001b[0m\n\u001b[1;32m    937\u001b[0m             raise ValueError(\"Incorrect number of features. \"\n\u001b[1;32m    938\u001b[0m                              \"Got %d features, expected %d\" % (\n\u001b[0;32m--> 939\u001b[0;31m                                  n_features, expected_n_features))\n\u001b[0m\u001b[1;32m    940\u001b[0m \u001b[0;34m\u001b[0m\u001b[0m\n\u001b[1;32m    941\u001b[0m         \u001b[0;32mreturn\u001b[0m \u001b[0mX\u001b[0m\u001b[0;34m\u001b[0m\u001b[0;34m\u001b[0m\u001b[0m\n",
      "\u001b[0;31mValueError\u001b[0m: Incorrect number of features. Got 297 features, expected 120498"
     ]
    }
   ],
   "source": [
    "result = kmeans.predict()"
   ]
  },
  {
   "cell_type": "code",
   "execution_count": 71,
   "metadata": {},
   "outputs": [],
   "source": [
    "x_test = normalize_me(test_sentence)"
   ]
  },
  {
   "cell_type": "code",
   "execution_count": 72,
   "metadata": {},
   "outputs": [
    {
     "data": {
      "text/plain": [
       "<1x297 sparse matrix of type '<class 'numpy.int64'>'\n",
       "\twith 297 stored elements in Compressed Sparse Row format>"
      ]
     },
     "execution_count": 72,
     "metadata": {},
     "output_type": "execute_result"
    }
   ],
   "source": [
    "x_test"
   ]
  },
  {
   "cell_type": "code",
   "execution_count": 73,
   "metadata": {},
   "outputs": [],
   "source": [
    "x_train = normalize_me(df['content_cleaned'])"
   ]
  },
  {
   "cell_type": "code",
   "execution_count": null,
   "metadata": {},
   "outputs": [],
   "source": [
    "df[]"
   ]
  }
 ],
 "metadata": {
  "kernelspec": {
   "display_name": "Python 3",
   "language": "python",
   "name": "python3"
  },
  "language_info": {
   "codemirror_mode": {
    "name": "ipython",
    "version": 3
   },
   "file_extension": ".py",
   "mimetype": "text/x-python",
   "name": "python",
   "nbconvert_exporter": "python",
   "pygments_lexer": "ipython3",
   "version": "3.7.2"
  }
 },
 "nbformat": 4,
 "nbformat_minor": 2
}
